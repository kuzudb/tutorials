{
 "cells": [
  {
   "cell_type": "markdown",
   "metadata": {},
   "source": [
    "# Demo of `COPY FROM` to rapidly ingest data into Kùzu\n",
    "\n",
    "This notebook demonstrates how to use the `COPY FROM` command to load data from the following sources:\n",
    "\n",
    "- CSV files\n",
    "- Subquery results\n",
    "- Pandas DataFrames"
   ]
  },
  {
   "cell_type": "markdown",
   "metadata": {},
   "source": [
    "## Create a Kùzu database\n",
    "\n",
    "The first step is to import `kuzu`, create a database and start a connection to it.\n"
   ]
  },
  {
   "cell_type": "code",
   "execution_count": 1,
   "metadata": {},
   "outputs": [],
   "source": [
    "import kuzu\n",
    "import shutil\n",
    "\n",
    "DB_NAME = \"./db\"\n",
    "shutil.rmtree(DB_NAME, ignore_errors=True)\n",
    "db = kuzu.Database(DB_NAME)\n",
    "conn = kuzu.Connection(db)"
   ]
  },
  {
   "cell_type": "markdown",
   "metadata": {},
   "source": [
    "## Create node tables\n",
    "\n",
    "The node tables are created using the following schemas."
   ]
  },
  {
   "cell_type": "code",
   "execution_count": 2,
   "metadata": {},
   "outputs": [
    {
     "data": {
      "text/plain": [
       "<kuzu.query_result.QueryResult at 0x106c43f20>"
      ]
     },
     "execution_count": 2,
     "metadata": {},
     "output_type": "execute_result"
    }
   ],
   "source": [
    "conn.execute(\n",
    "    \"\"\"\n",
    "    CREATE NODE TABLE Person (\n",
    "        id STRING,\n",
    "        name STRING,\n",
    "        age INT64,\n",
    "        PRIMARY KEY (id)\n",
    "    )\n",
    "    \"\"\"\n",
    ")\n",
    "\n",
    "conn.execute(\n",
    "    \"\"\"\n",
    "    CREATE NODE TABLE City (\n",
    "        id STRING,\n",
    "        city STRING,\n",
    "        PRIMARY KEY (id)\n",
    "    )\n",
    "    \"\"\"\n",
    ")\n",
    "\n",
    "conn.execute(\n",
    "    \"\"\"\n",
    "    CREATE NODE TABLE Company (\n",
    "        id STRING,\n",
    "        company STRING,\n",
    "        PRIMARY KEY (id)\n",
    "    )\n",
    "    \"\"\"\n",
    ")"
   ]
  },
  {
   "cell_type": "markdown",
   "metadata": {},
   "source": [
    "## Create relationship tables\n",
    "The following cells creates relationship tables with the required `FROM` and `TO` relationships."
   ]
  },
  {
   "cell_type": "code",
   "execution_count": 3,
   "metadata": {},
   "outputs": [
    {
     "data": {
      "text/plain": [
       "<kuzu.query_result.QueryResult at 0x105c498b0>"
      ]
     },
     "execution_count": 3,
     "metadata": {},
     "output_type": "execute_result"
    }
   ],
   "source": [
    "conn.execute(\n",
    "    \"\"\"\n",
    "    CREATE REL TABLE LivesIn (\n",
    "        FROM Person\n",
    "        TO City\n",
    "    )\n",
    "    \"\"\"\n",
    ")\n",
    "\n",
    "conn.execute(\n",
    "    \"\"\"\n",
    "    CREATE REL TABLE HeadquarteredIn (\n",
    "        FROM Company\n",
    "        TO City\n",
    "    )\n",
    "    \"\"\"\n",
    ")\n",
    "\n",
    "conn.execute(\n",
    "    \"\"\"\n",
    "    CREATE REL TABLE WorksAt (\n",
    "        FROM Person\n",
    "        TO Company\n",
    "    )\n",
    "    \"\"\"\n",
    ")"
   ]
  },
  {
   "cell_type": "markdown",
   "metadata": {},
   "source": [
    "## Use `COPY FROM` to ingest data from files\n",
    "\n",
    "The `COPY FROM` technique can be conveniently used to ingest data from multiple CSV files as shown below."
   ]
  },
  {
   "cell_type": "code",
   "execution_count": 4,
   "metadata": {},
   "outputs": [
    {
     "data": {
      "text/plain": [
       "<kuzu.query_result.QueryResult at 0x106cb0a70>"
      ]
     },
     "execution_count": 4,
     "metadata": {},
     "output_type": "execute_result"
    }
   ],
   "source": [
    "# Copy node tables\n",
    "conn.execute(\"COPY Person FROM 'data/person.csv' (header=true)\")\n",
    "conn.execute(\"COPY City FROM 'data/city.csv'\")\n",
    "conn.execute(\"COPY Company FROM 'data/company.csv'\")\n",
    "\n",
    "# Copy relationship tables\n",
    "conn.execute(\"COPY LivesIn FROM 'data/lives_in.csv'\")\n",
    "conn.execute(\"COPY HeadquarteredIn FROM 'data/headquartered_in.csv'\")\n",
    "conn.execute(\"COPY WorksAt FROM 'data/works_at.csv'\")"
   ]
  },
  {
   "cell_type": "code",
   "execution_count": 5,
   "metadata": {},
   "outputs": [
    {
     "name": "stdout",
     "output_type": "stream",
     "text": [
      "['Lisa', 25]\n",
      "['James', 28]\n"
     ]
    }
   ],
   "source": [
    "# Give me the names and ages of all people who live in San Francisco\n",
    "result = conn.execute(\n",
    "    \"\"\"\n",
    "    MATCH (p:Person)-[l:LivesIn]->(c:City)\n",
    "    WHERE c.city = \"San Francisco\"\n",
    "    RETURN p.name AS name, p.age AS age\n",
    "    \"\"\"\n",
    ")\n",
    "while result.has_next():\n",
    "    print(result.get_next())"
   ]
  },
  {
   "cell_type": "markdown",
   "metadata": {},
   "source": [
    "## Use `COPY FROM` to ingest data via a subquery\n",
    "\n",
    "Another way to ingest data is to pass the results of a subquery to the `COPY FROM` command. In the below\n",
    "example, we first scan the data from the CSV file, to inspect its contents. This is done using the `LOAD FROM`\n",
    "statement. Note that `LOAD FROM` does not insert the data into a table - it simply scans the contents of the\n",
    "source. The `COPY FROM` command is then used to insert the data into the `nodes` table.\n"
   ]
  },
  {
   "cell_type": "code",
   "execution_count": 6,
   "metadata": {},
   "outputs": [
    {
     "data": {
      "text/plain": [
       "<kuzu.query_result.QueryResult at 0x106cb2c90>"
      ]
     },
     "execution_count": 6,
     "metadata": {},
     "output_type": "execute_result"
    }
   ],
   "source": [
    "# Create a new table called `Person2`\n",
    "conn.execute(\n",
    "    \"\"\"\n",
    "    CREATE NODE TABLE Person2 (\n",
    "        id STRING,\n",
    "        name STRING,\n",
    "        age INT64,\n",
    "        PRIMARY KEY (id)\n",
    "    )\n",
    "    \"\"\"\n",
    ")"
   ]
  },
  {
   "cell_type": "code",
   "execution_count": 7,
   "metadata": {},
   "outputs": [
    {
     "name": "stdout",
     "output_type": "stream",
     "text": [
      "['p1', 'Lisa', 25]\n",
      "['p2', 'James', 28]\n",
      "['p3', 'Carol', 32]\n",
      "['p4', 'David', 31]\n"
     ]
    }
   ],
   "source": [
    "# Check out the contents of the CSV file using the `LOAD FROM` command\n",
    "res = conn.execute(\n",
    "    \"\"\"\n",
    "    LOAD FROM 'data/person.csv' (header = true)\n",
    "    RETURN id, name, CAST(age, \"INT64\")\n",
    "    \"\"\"\n",
    ")\n",
    "while res.has_next():\n",
    "    print(res.get_next())"
   ]
  },
  {
   "cell_type": "code",
   "execution_count": 8,
   "metadata": {},
   "outputs": [
    {
     "data": {
      "text/plain": [
       "<kuzu.query_result.QueryResult at 0x106c974a0>"
      ]
     },
     "execution_count": 8,
     "metadata": {},
     "output_type": "execute_result"
    }
   ],
   "source": [
    "# Now, pass the contents of the CSV file to COPY the data to the new table `Person2` using a subquery\n",
    "conn.execute(\n",
    "    \"\"\"\n",
    "    COPY Person2 FROM (\n",
    "        LOAD FROM 'data/person.csv' (header = true)\n",
    "        RETURN id, name, CAST(age, \"INT64\"\n",
    "        )\n",
    "    )\n",
    "    \"\"\"\n",
    ")"
   ]
  },
  {
   "cell_type": "code",
   "execution_count": 9,
   "metadata": {},
   "outputs": [
    {
     "data": {
      "text/plain": [
       "<kuzu.query_result.QueryResult at 0x106c978c0>"
      ]
     },
     "execution_count": 9,
     "metadata": {},
     "output_type": "execute_result"
    }
   ],
   "source": [
    "conn.execute(\"DROP TABLE Person2\")"
   ]
  },
  {
   "cell_type": "markdown",
   "metadata": {},
   "source": [
    "## Use `COPY FROM` to ingest data from a DataFrame\n",
    "\n",
    "If you already have data in a DataFrame as you wrangle it in libraries like Pandas or Polars,\n",
    "you can use the `COPY FROM` command on the DataFrame to ingest the data into Kùzu. At the time of\n",
    "writing this, the `COPY FROM` command only supports copying from Pandas DataFrames via a subquery,\n",
    "but from Kùzu 0.5.0 and beyond, two additional features will be supported:\n",
    "\n",
    "- `COPY FROM` Polars DataFrames and Arrow Tables\n",
    "- `COPY FROM` a DataFrame directly (either Pandas or Polars)\n",
    "\n",
    "The cells below demonstrate how to use the `COPY FROM` command to ingest data from a Pandas DataFrame\n",
    "via subquery. Stay tuned for the upcoming features in Kùzu 0.5.0 and beyond!"
   ]
  },
  {
   "cell_type": "code",
   "execution_count": 10,
   "metadata": {},
   "outputs": [
    {
     "data": {
      "text/plain": [
       "<kuzu.query_result.QueryResult at 0x106cb0500>"
      ]
     },
     "execution_count": 10,
     "metadata": {},
     "output_type": "execute_result"
    }
   ],
   "source": [
    "# Create a new table called `Person3`\n",
    "conn.execute(\n",
    "    \"\"\"\n",
    "    CREATE NODE TABLE Person3 (\n",
    "        id STRING,\n",
    "        name STRING,\n",
    "        age INT64,\n",
    "        PRIMARY KEY (id)\n",
    "    )\n",
    "    \"\"\"\n",
    ")"
   ]
  },
  {
   "cell_type": "code",
   "execution_count": 11,
   "metadata": {},
   "outputs": [
    {
     "data": {
      "text/html": [
       "<div>\n",
       "<style scoped>\n",
       "    .dataframe tbody tr th:only-of-type {\n",
       "        vertical-align: middle;\n",
       "    }\n",
       "\n",
       "    .dataframe tbody tr th {\n",
       "        vertical-align: top;\n",
       "    }\n",
       "\n",
       "    .dataframe thead th {\n",
       "        text-align: right;\n",
       "    }\n",
       "</style>\n",
       "<table border=\"1\" class=\"dataframe\">\n",
       "  <thead>\n",
       "    <tr style=\"text-align: right;\">\n",
       "      <th></th>\n",
       "      <th>id</th>\n",
       "      <th>name</th>\n",
       "      <th>age</th>\n",
       "    </tr>\n",
       "  </thead>\n",
       "  <tbody>\n",
       "    <tr>\n",
       "      <th>0</th>\n",
       "      <td>p1</td>\n",
       "      <td>Lisa</td>\n",
       "      <td>25</td>\n",
       "    </tr>\n",
       "    <tr>\n",
       "      <th>1</th>\n",
       "      <td>p2</td>\n",
       "      <td>James</td>\n",
       "      <td>28</td>\n",
       "    </tr>\n",
       "    <tr>\n",
       "      <th>2</th>\n",
       "      <td>p3</td>\n",
       "      <td>Carol</td>\n",
       "      <td>32</td>\n",
       "    </tr>\n",
       "    <tr>\n",
       "      <th>3</th>\n",
       "      <td>p4</td>\n",
       "      <td>David</td>\n",
       "      <td>31</td>\n",
       "    </tr>\n",
       "  </tbody>\n",
       "</table>\n",
       "</div>"
      ],
      "text/plain": [
       "   id   name  age\n",
       "0  p1   Lisa   25\n",
       "1  p2  James   28\n",
       "2  p3  Carol   32\n",
       "3  p4  David   31"
      ]
     },
     "execution_count": 11,
     "metadata": {},
     "output_type": "execute_result"
    }
   ],
   "source": [
    "# Check out the contents of the CSV file using the `LOAD FROM` command\n",
    "res = conn.execute(\n",
    "    \"\"\"\n",
    "    LOAD FROM 'data/person.csv' (header = true)\n",
    "    RETURN id, name, CAST(age, \"INT64\") AS age\n",
    "    \"\"\"\n",
    ")\n",
    "df = res.get_as_df()\n",
    "df"
   ]
  },
  {
   "cell_type": "code",
   "execution_count": 12,
   "metadata": {},
   "outputs": [
    {
     "data": {
      "text/plain": [
       "<kuzu.query_result.QueryResult at 0x121c89f70>"
      ]
     },
     "execution_count": 12,
     "metadata": {},
     "output_type": "execute_result"
    }
   ],
   "source": [
    "# Now, pass the contents of the CSV file to COPY the data to the new table `Person3` using a subquery\n",
    "conn.execute(\"COPY Person3 FROM (LOAD FROM df RETURN * )\")"
   ]
  },
  {
   "cell_type": "code",
   "execution_count": 13,
   "metadata": {},
   "outputs": [
    {
     "data": {
      "text/html": [
       "<div>\n",
       "<style scoped>\n",
       "    .dataframe tbody tr th:only-of-type {\n",
       "        vertical-align: middle;\n",
       "    }\n",
       "\n",
       "    .dataframe tbody tr th {\n",
       "        vertical-align: top;\n",
       "    }\n",
       "\n",
       "    .dataframe thead th {\n",
       "        text-align: right;\n",
       "    }\n",
       "</style>\n",
       "<table border=\"1\" class=\"dataframe\">\n",
       "  <thead>\n",
       "    <tr style=\"text-align: right;\">\n",
       "      <th></th>\n",
       "      <th>p.id</th>\n",
       "      <th>p.name</th>\n",
       "      <th>p.age</th>\n",
       "    </tr>\n",
       "  </thead>\n",
       "  <tbody>\n",
       "    <tr>\n",
       "      <th>0</th>\n",
       "      <td>p1</td>\n",
       "      <td>Lisa</td>\n",
       "      <td>25</td>\n",
       "    </tr>\n",
       "    <tr>\n",
       "      <th>1</th>\n",
       "      <td>p2</td>\n",
       "      <td>James</td>\n",
       "      <td>28</td>\n",
       "    </tr>\n",
       "  </tbody>\n",
       "</table>\n",
       "</div>"
      ],
      "text/plain": [
       "  p.id p.name  p.age\n",
       "0   p1   Lisa     25\n",
       "1   p2  James     28"
      ]
     },
     "execution_count": 13,
     "metadata": {},
     "output_type": "execute_result"
    }
   ],
   "source": [
    "conn.execute(\n",
    "    \"\"\"\n",
    "    MATCH (p:Person)\n",
    "    WHERE p.age < 30\n",
    "    RETURN p.id, p.name, p.age\n",
    "    \"\"\"\n",
    ").get_as_df()"
   ]
  },
  {
   "cell_type": "code",
   "execution_count": 14,
   "metadata": {},
   "outputs": [
    {
     "data": {
      "text/plain": [
       "<kuzu.query_result.QueryResult at 0xa608026c0>"
      ]
     },
     "execution_count": 14,
     "metadata": {},
     "output_type": "execute_result"
    }
   ],
   "source": [
    "conn.execute(\"DROP TABLE Person3\")"
   ]
  },
  {
   "cell_type": "markdown",
   "metadata": {},
   "source": [
    "## Conclusions\n",
    "\n",
    "This notebook covered the basics of ingesting data into Kùzu from files, subquery results and DataFrames.\n",
    "\n",
    "Check out our documentation for more information: https://docs.kuzudb.com\n",
    "\n",
    "Only very basic Cypher queries were shown. More advanced Cypher will be covered in future notebooks!"
   ]
  }
 ],
 "metadata": {
  "kernelspec": {
   "display_name": ".venv",
   "language": "python",
   "name": "python3"
  },
  "language_info": {
   "codemirror_mode": {
    "name": "ipython",
    "version": 3
   },
   "file_extension": ".py",
   "mimetype": "text/x-python",
   "name": "python",
   "nbconvert_exporter": "python",
   "pygments_lexer": "ipython3",
   "version": "3.12.4"
  }
 },
 "nbformat": 4,
 "nbformat_minor": 2
}
