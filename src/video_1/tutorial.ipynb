{
 "cells": [
  {
   "cell_type": "code",
   "execution_count": 1,
   "metadata": {},
   "outputs": [],
   "source": [
    "import kuzu"
   ]
  },
  {
   "cell_type": "code",
   "execution_count": 2,
   "metadata": {},
   "outputs": [],
   "source": [
    "DB_NAME = \"./db\"\n",
    "db = kuzu.Database(DB_NAME)\n",
    "conn = kuzu.Connection(db)"
   ]
  },
  {
   "cell_type": "code",
   "execution_count": 3,
   "metadata": {},
   "outputs": [
    {
     "data": {
      "text/plain": [
       "<kuzu.query_result.QueryResult at 0x1060f1be0>"
      ]
     },
     "execution_count": 3,
     "metadata": {},
     "output_type": "execute_result"
    }
   ],
   "source": [
    "conn.execute(\n",
    "    \"\"\"\n",
    "    CREATE NODE TABLE Person (\n",
    "        id STRING,\n",
    "        name STRING,\n",
    "        age INT64,\n",
    "        PRIMARY KEY (id)\n",
    "    )\n",
    "    \"\"\"\n",
    ")\n",
    "\n",
    "conn.execute(\n",
    "    \"\"\"\n",
    "    CREATE NODE TABLE City (\n",
    "        id STRING,\n",
    "        city STRING,\n",
    "        PRIMARY KEY (id)\n",
    "    )\n",
    "    \"\"\"\n",
    ")\n",
    "\n",
    "conn.execute(\n",
    "    \"\"\"\n",
    "    CREATE NODE TABLE Company (\n",
    "        id STRING,\n",
    "        company STRING,\n",
    "        PRIMARY KEY (id)\n",
    "    )\n",
    "    \"\"\"\n",
    ")"
   ]
  },
  {
   "cell_type": "markdown",
   "metadata": {},
   "source": [
    "## Create relationship tables\n",
    "The following cells create the required relationship tables."
   ]
  },
  {
   "cell_type": "code",
   "execution_count": 4,
   "metadata": {},
   "outputs": [
    {
     "data": {
      "text/plain": [
       "<kuzu.query_result.QueryResult at 0x1061901d0>"
      ]
     },
     "execution_count": 4,
     "metadata": {},
     "output_type": "execute_result"
    }
   ],
   "source": [
    "conn.execute(\n",
    "    \"\"\"\n",
    "    CREATE REL TABLE LivesIn (\n",
    "        FROM Person\n",
    "        TO City\n",
    "    )\n",
    "    \"\"\"\n",
    ")\n",
    "\n",
    "conn.execute(\n",
    "    \"\"\"\n",
    "    CREATE REL TABLE HeadquarteredIn (\n",
    "        FROM Company\n",
    "        TO City\n",
    "    )\n",
    "    \"\"\"\n",
    ")\n",
    "\n",
    "conn.execute(\n",
    "    \"\"\"\n",
    "    CREATE REL TABLE WorksAt (\n",
    "        FROM Person\n",
    "        TO Company\n",
    "    )\n",
    "    \"\"\"\n",
    ")"
   ]
  },
  {
   "cell_type": "code",
   "execution_count": 5,
   "metadata": {},
   "outputs": [
    {
     "data": {
      "text/plain": [
       "<kuzu.query_result.QueryResult at 0x105cf95e0>"
      ]
     },
     "execution_count": 5,
     "metadata": {},
     "output_type": "execute_result"
    }
   ],
   "source": [
    "# Ingest node data\n",
    "conn.execute(\"COPY Person FROM 'data/person.csv'\")\n",
    "conn.execute(\"COPY City FROM 'data/city.csv'\")\n",
    "conn.execute(\"COPY Company FROM 'data/company.csv'\")"
   ]
  },
  {
   "cell_type": "code",
   "execution_count": 6,
   "metadata": {},
   "outputs": [
    {
     "data": {
      "text/plain": [
       "<kuzu.query_result.QueryResult at 0x10613fc20>"
      ]
     },
     "execution_count": 6,
     "metadata": {},
     "output_type": "execute_result"
    }
   ],
   "source": [
    "# Ingest relationship data\n",
    "conn.execute(\"COPY LivesIn FROM 'data/lives_in.csv'\")\n",
    "conn.execute(\"COPY HeadquarteredIn FROM 'data/headquartered_in.csv'\")\n",
    "conn.execute(\"COPY WorksAt FROM 'data/works_at.csv'\")"
   ]
  },
  {
   "cell_type": "code",
   "execution_count": 7,
   "metadata": {},
   "outputs": [
    {
     "name": "stdout",
     "output_type": "stream",
     "text": [
      "['San Francisco', 2]\n",
      "['Charlotte', 2]\n"
     ]
    }
   ],
   "source": [
    "# In which cities do employees most commonly live?\n",
    "result = conn.execute(\n",
    "    \"\"\"\n",
    "    MATCH (p:Person)-[:LivesIn]->(ci:City)\n",
    "    RETURN ci.city AS city_name, count(p) AS num_persons\n",
    "    \"\"\"\n",
    ")\n",
    "while result.has_next():\n",
    "    print(result.get_next())"
   ]
  },
  {
   "cell_type": "code",
   "execution_count": 8,
   "metadata": {},
   "outputs": [
    {
     "name": "stdout",
     "output_type": "stream",
     "text": [
      "1\n"
     ]
    }
   ],
   "source": [
    "# How many people live and work in the city of their company's headquarters?\n",
    "result = conn.execute(\n",
    "    \"\"\"\n",
    "    MATCH (c1:City)<-[:LivesIn]-(p:Person)-[:WorksAt]->(:Company)-[:HeadquarteredIn]->(c2:City)\n",
    "    WHERE c1.city = c2.city\n",
    "    RETURN COUNT(p) AS num_persons\n",
    "    \"\"\"\n",
    ")\n",
    "while result.has_next():\n",
    "    print(result.get_next()[0])"
   ]
  },
  {
   "cell_type": "code",
   "execution_count": 9,
   "metadata": {},
   "outputs": [
    {
     "name": "stdout",
     "output_type": "stream",
     "text": [
      "Lisa\n"
     ]
    }
   ],
   "source": [
    "# Does a given person have a path to a given company?\n",
    "query = \"\"\"\n",
    "    MATCH (p:Person)-[*1..2]-(q:Person)-[:WorksAt]->(co:Company)\n",
    "    WHERE p.name = \"James\" AND co.company = \"Apple\"\n",
    "    RETURN DISTINCT q.name AS person\n",
    "\"\"\"\n",
    "result = conn.execute(query)\n",
    "while result.has_next():\n",
    "    print(result.get_next()[0])"
   ]
  },
  {
   "cell_type": "code",
   "execution_count": null,
   "metadata": {},
   "outputs": [],
   "source": []
  }
 ],
 "metadata": {
  "kernelspec": {
   "display_name": ".venv",
   "language": "python",
   "name": "python3"
  },
  "language_info": {
   "codemirror_mode": {
    "name": "ipython",
    "version": 3
   },
   "file_extension": ".py",
   "mimetype": "text/x-python",
   "name": "python",
   "nbconvert_exporter": "python",
   "pygments_lexer": "ipython3",
   "version": "3.12.4"
  }
 },
 "nbformat": 4,
 "nbformat_minor": 2
}
