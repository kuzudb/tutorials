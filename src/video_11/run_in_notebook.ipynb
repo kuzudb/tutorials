{
 "cells": [
  {
   "cell_type": "markdown",
   "metadata": {},
   "source": [
    "# Interactive graph visualization with yFiles and Kuzu"
   ]
  },
  {
   "cell_type": "code",
   "execution_count": 1,
   "metadata": {},
   "outputs": [],
   "source": [
    "import shutil\n",
    "\n",
    "import kuzu\n",
    "import polars as pl"
   ]
  },
  {
   "cell_type": "code",
   "execution_count": 2,
   "metadata": {},
   "outputs": [],
   "source": [
    "DB_NAME = \"ex_kuzu_db\"\n",
    "shutil.rmtree(DB_NAME, ignore_errors=True)\n",
    "db = kuzu.Database(DB_NAME)\n",
    "conn = kuzu.Connection(db)"
   ]
  },
  {
   "cell_type": "markdown",
   "metadata": {},
   "source": [
    "## Nodes\n",
    "We first scan the nodes JSON file and extract the contents relevant to our graph schema."
   ]
  },
  {
   "cell_type": "code",
   "execution_count": 3,
   "metadata": {},
   "outputs": [
    {
     "data": {
      "text/html": [
       "<div><style>\n",
       ".dataframe > thead > tr,\n",
       ".dataframe > tbody > tr {\n",
       "  text-align: right;\n",
       "  white-space: pre-wrap;\n",
       "}\n",
       "</style>\n",
       "<small>shape: (5, 14)</small><table border=\"1\" class=\"dataframe\"><thead><tr><th>id</th><th>Strength</th><th>selected</th><th>cytoscape_alias_list</th><th>canonicalName</th><th>Milk</th><th>Synonym</th><th>Quality</th><th>Type</th><th>SUID</th><th>NodeType</th><th>name</th><th>Country</th><th>shared_name</th></tr><tr><td>str</td><td>i64</td><td>bool</td><td>list[str]</td><td>str</td><td>str</td><td>str</td><td>i64</td><td>str</td><td>i64</td><td>str</td><td>str</td><td>str</td><td>str</td></tr></thead><tbody><tr><td>&quot;430&quot;</td><td>5</td><td>false</td><td>[&quot;Aarauer Bierdeckel&quot;]</td><td>&quot;Aarauer Bierdeckel&quot;</td><td>&quot;Raw cow&#x27;s milk&quot;</td><td>&quot;Kuentener&quot;</td><td>90</td><td>&quot;Semi-soft&quot;</td><td>430</td><td>&quot;Cheese&quot;</td><td>&quot;Aarauer Bierdeckel&quot;</td><td>&quot;Switzerland&quot;</td><td>&quot;Aarauer Bierdeckel&quot;</td></tr><tr><td>&quot;429&quot;</td><td>null</td><td>false</td><td>[&quot;Bergues&quot;]</td><td>&quot;Bergues&quot;</td><td>null</td><td>null</td><td>null</td><td>null</td><td>429</td><td>&quot;Cheese&quot;</td><td>&quot;Bergues&quot;</td><td>null</td><td>&quot;Bergues&quot;</td></tr><tr><td>&quot;428&quot;</td><td>null</td><td>false</td><td>[&quot;Chimay&quot;]</td><td>&quot;Chimay&quot;</td><td>null</td><td>null</td><td>null</td><td>null</td><td>428</td><td>&quot;Cheese&quot;</td><td>&quot;Chimay&quot;</td><td>null</td><td>&quot;Chimay&quot;</td></tr><tr><td>&quot;427&quot;</td><td>null</td><td>false</td><td>[&quot;Fiumorbu&quot;]</td><td>&quot;Fiumorbu&quot;</td><td>null</td><td>null</td><td>null</td><td>null</td><td>427</td><td>&quot;Cheese&quot;</td><td>&quot;Fiumorbu&quot;</td><td>null</td><td>&quot;Fiumorbu&quot;</td></tr><tr><td>&quot;426&quot;</td><td>null</td><td>false</td><td>[&quot;Beaujolais&quot;]</td><td>&quot;Beaujolais&quot;</td><td>null</td><td>null</td><td>null</td><td>null</td><td>426</td><td>&quot;RedWine&quot;</td><td>&quot;Beaujolais&quot;</td><td>null</td><td>&quot;Beaujolais&quot;</td></tr></tbody></table></div>"
      ],
      "text/plain": [
       "shape: (5, 14)\n",
       "┌─────┬──────────┬──────────┬─────────────┬───┬──────────┬─────────────┬─────────────┬─────────────┐\n",
       "│ id  ┆ Strength ┆ selected ┆ cytoscape_a ┆ … ┆ NodeType ┆ name        ┆ Country     ┆ shared_name │\n",
       "│ --- ┆ ---      ┆ ---      ┆ lias_list   ┆   ┆ ---      ┆ ---         ┆ ---         ┆ ---         │\n",
       "│ str ┆ i64      ┆ bool     ┆ ---         ┆   ┆ str      ┆ str         ┆ str         ┆ str         │\n",
       "│     ┆          ┆          ┆ list[str]   ┆   ┆          ┆             ┆             ┆             │\n",
       "╞═════╪══════════╪══════════╪═════════════╪═══╪══════════╪═════════════╪═════════════╪═════════════╡\n",
       "│ 430 ┆ 5        ┆ false    ┆ [\"Aarauer   ┆ … ┆ Cheese   ┆ Aarauer     ┆ Switzerland ┆ Aarauer     │\n",
       "│     ┆          ┆          ┆ Bierdeckel\" ┆   ┆          ┆ Bierdeckel  ┆             ┆ Bierdeckel  │\n",
       "│     ┆          ┆          ┆ ]           ┆   ┆          ┆             ┆             ┆             │\n",
       "│ 429 ┆ null     ┆ false    ┆ [\"Bergues\"] ┆ … ┆ Cheese   ┆ Bergues     ┆ null        ┆ Bergues     │\n",
       "│ 428 ┆ null     ┆ false    ┆ [\"Chimay\"]  ┆ … ┆ Cheese   ┆ Chimay      ┆ null        ┆ Chimay      │\n",
       "│ 427 ┆ null     ┆ false    ┆ [\"Fiumorbu\" ┆ … ┆ Cheese   ┆ Fiumorbu    ┆ null        ┆ Fiumorbu    │\n",
       "│     ┆          ┆          ┆ ]           ┆   ┆          ┆             ┆             ┆             │\n",
       "│ 426 ┆ null     ┆ false    ┆ [\"Beaujolai ┆ … ┆ RedWine  ┆ Beaujolais  ┆ null        ┆ Beaujolais  │\n",
       "│     ┆          ┆          ┆ s\"]         ┆   ┆          ┆             ┆             ┆             │\n",
       "└─────┴──────────┴──────────┴─────────────┴───┴──────────┴─────────────┴─────────────┴─────────────┘"
      ]
     },
     "execution_count": 3,
     "metadata": {},
     "output_type": "execute_result"
    }
   ],
   "source": [
    "# --- Nodes ---\n",
    "\n",
    "# Read in the nodes\n",
    "nodes_df = pl.read_json(\"data/nodes.json\").drop(\"position\", \"selected\").unnest(\"data\")\n",
    "nodes_df.head()"
   ]
  },
  {
   "cell_type": "markdown",
   "metadata": {},
   "source": [
    "The relevant columnsd `id` and `name` are defined as properties for the `RedWine` and `WhiteWine` nodes. For the `Cheese` nodes, we include additionaly metadata, such `strength`, `quality` and `milk` (indicating what milk the cheese is made from)."
   ]
  },
  {
   "cell_type": "code",
   "execution_count": 4,
   "metadata": {},
   "outputs": [
    {
     "data": {
      "text/plain": [
       "<kuzu.query_result.QueryResult at 0x10f527530>"
      ]
     },
     "execution_count": 4,
     "metadata": {},
     "output_type": "execute_result"
    }
   ],
   "source": [
    "# Create node tables\n",
    "conn.execute(\"CREATE NODE TABLE IF NOT EXISTS RedWine(id INT64 PRIMARY KEY, name STRING)\")\n",
    "conn.execute(\"CREATE NODE TABLE IF NOT EXISTS WhiteWine(id INT64 PRIMARY KEY, name STRING)\")\n",
    "conn.execute(\n",
    "    \"\"\"\n",
    "    CREATE NODE TABLE IF NOT EXISTS Cheese(\n",
    "        id INT64 PRIMARY KEY,\n",
    "        name STRING,\n",
    "        strength INT64,\n",
    "        quality INT64,\n",
    "        milk STRING\n",
    "    )\n",
    "\"\"\"\n",
    ")\n",
    "\n",
    "# Copy node data\n",
    "conn.execute(\n",
    "    \"\"\"\n",
    "    COPY RedWine FROM (\n",
    "        LOAD FROM nodes_df\n",
    "        WHERE NodeType = \"RedWine\"\n",
    "        RETURN SUID AS id, name\n",
    "    )\n",
    "    \"\"\"\n",
    ")\n",
    "conn.execute(\n",
    "    \"\"\"\n",
    "    COPY WhiteWine FROM (\n",
    "        LOAD FROM nodes_df\n",
    "        WHERE NodeType = \"WhiteWine\"\n",
    "        RETURN SUID AS id, name\n",
    "    )\n",
    "    \"\"\"\n",
    ")\n",
    "conn.execute(\n",
    "    \"\"\"\n",
    "    COPY Cheese FROM (\n",
    "        LOAD FROM nodes_df\n",
    "        WHERE NodeType = \"Cheese\"\n",
    "        RETURN\n",
    "          SUID AS id, name,\n",
    "          Strength AS strength,\n",
    "          Quality AS quality,\n",
    "          Milk AS milk\n",
    "    )\n",
    "    \"\"\"\n",
    ")"
   ]
  },
  {
   "cell_type": "markdown",
   "metadata": {},
   "source": [
    "## Edges\n",
    "\n",
    "The edges consist of pairings of red wines, white wines and cheeses. Cheeses can pair with each other as they are together considered to \"go with\" a particular wine. The contents of the edges JSON file are scanned and the relevant columns are isolated for the relationship tables in Kuzu."
   ]
  },
  {
   "cell_type": "code",
   "execution_count": 5,
   "metadata": {},
   "outputs": [
    {
     "data": {
      "text/plain": [
       "<kuzu.query_result.QueryResult at 0x11a9eeb50>"
      ]
     },
     "execution_count": 5,
     "metadata": {},
     "output_type": "execute_result"
    }
   ],
   "source": [
    "# --- Edges ---\n",
    "\n",
    "# Read in the edges\n",
    "edges_df = (\n",
    "    pl.read_json(\"data/edges.json\")\n",
    "    .drop(\"selected\")\n",
    "    .unnest(\"data\")\n",
    "    .select(\"source\", \"target\")\n",
    "    .with_columns(pl.col(\"source\").cast(pl.Int64), pl.col(\"target\").cast(pl.Int64))\n",
    ")\n",
    "\n",
    "# Create edge tables\n",
    "conn.execute(\n",
    "    \"\"\"\n",
    "    CREATE REL TABLE IF NOT EXISTS PAIRS_WITH(\n",
    "        FROM Cheese TO Cheese,\n",
    "        FROM Cheese TO RedWine,\n",
    "        FROM Cheese TO WhiteWine\n",
    "    )\n",
    "    \"\"\"\n",
    ")\n",
    "\n",
    "# Cheese -> RedWine\n",
    "conn.execute(\n",
    "    \"\"\"\n",
    "    LOAD FROM edges_df\n",
    "    MATCH (s1:Cheese {id: source}), (t1:RedWine {id: target})\n",
    "    MERGE (s1)-[:PAIRS_WITH]->(t1)\n",
    "    \"\"\"\n",
    ")\n",
    "\n",
    "# Cheese -> WhiteWine\n",
    "conn.execute(\n",
    "    \"\"\"\n",
    "    LOAD FROM edges_df\n",
    "    MATCH (s2:Cheese {id: source}), (t2:WhiteWine {id: target})\n",
    "    MERGE (s2)-[:PAIRS_WITH]->(t2)\n",
    "    \"\"\"\n",
    ")\n",
    "\n",
    "# Cheese -> Cheese\n",
    "conn.execute(\n",
    "    \"\"\"\n",
    "    LOAD FROM edges_df\n",
    "    MATCH (s3:Cheese {id: source}), (t3:Cheese {id: target})\n",
    "    MERGE (s3)-[:PAIRS_WITH]->(t3)\n",
    "    \"\"\"\n",
    ")"
   ]
  },
  {
   "cell_type": "markdown",
   "metadata": {},
   "source": [
    "## Visualization\n",
    "We're now ready to interactively visualize our graph! Using the same underlying connection object, we can instantiate a `KuzuGraphWidget` using the yFiles Jupyter Graph library that connects to a Kuzu database."
   ]
  },
  {
   "cell_type": "code",
   "execution_count": 6,
   "metadata": {},
   "outputs": [],
   "source": [
    "from yfiles_jupyter_graphs_for_kuzu import KuzuGraphWidget\n",
    "\n",
    "g = KuzuGraphWidget(conn)\n",
    "\n",
    "# Make the colours of each node more intuitive - red wine nodes are burgundy in colour!\n",
    "g.add_node_configuration(\"Cheese\", color=\"yellow\", text= lambda node: {\"text\": node[\"properties\"][\"name\"], \"position\": \"south\", \"color\": \"#FFFFFF\", \"backgroundColor\": \"rgba(0,0,0,0.7)\"})  # type: ignore\n",
    "g.add_node_configuration(\"RedWine\", color=\"#800020\", text= lambda node: {\"text\": node[\"properties\"][\"name\"], \"position\": \"south\", \"color\": \"#FFFFFF\", \"backgroundColor\": \"rgba(0,0,0,0.7)\"})  # type: ignore\n",
    "g.add_node_configuration(\"WhiteWine\", color=\"white\", text= lambda node: {\"text\": node[\"properties\"][\"name\"], \"position\": \"south\", \"color\": \"#FFFFFF\", \"backgroundColor\": \"rgba(0,0,0,0.7)\"})  # type: ignore"
   ]
  },
  {
   "cell_type": "code",
   "execution_count": 7,
   "metadata": {},
   "outputs": [
    {
     "data": {
      "application/vnd.jupyter.widget-view+json": {
       "model_id": "7b46d16adab24ab4966d4f28334d8cc2",
       "version_major": 2,
       "version_minor": 0
      },
      "text/plain": [
       "GraphWidget(layout=Layout(height='770px', width='100%'))"
      ]
     },
     "metadata": {},
     "output_type": "display_data"
    }
   ],
   "source": [
    "# Cheeses that go with Chianti Classico (Static)\n",
    "g.show_cypher(\n",
    "    \"\"\"\n",
    "    MATCH (cheese:Cheese)-[r:PAIRS_WITH]->(w:RedWine)\n",
    "    WHERE w.name = \"Chianti Classico\"\n",
    "    RETURN * LIMIT 50;\n",
    "    \"\"\"\n",
    ")"
   ]
  },
  {
   "cell_type": "code",
   "execution_count": 8,
   "metadata": {},
   "outputs": [
    {
     "data": {
      "application/vnd.jupyter.widget-view+json": {
       "model_id": "b641ecc075fd4345bc9a13b1152fb330",
       "version_major": 2,
       "version_minor": 0
      },
      "text/plain": [
       "GraphWidget(layout=Layout(height='500px', width='100%'))"
      ]
     },
     "metadata": {},
     "output_type": "display_data"
    }
   ],
   "source": [
    "# Are there any paths between Gruyere and Cheshire cheeses? (Interactive)\n",
    "g.show_cypher(\n",
    "    \"\"\"\n",
    "    MATCH (c1:Cheese)-[r *1..3]-(c2:Cheese)\n",
    "    WHERE c1.name = \"Cheshire\" AND c2.name = \"Gruyere\"\n",
    "    RETURN DISTINCT * LIMIT 50;\n",
    "    \"\"\",\n",
    "    layout=\"interactive_organic\"\n",
    ")"
   ]
  },
  {
   "cell_type": "code",
   "execution_count": 9,
   "metadata": {},
   "outputs": [
    {
     "data": {
      "application/vnd.jupyter.widget-view+json": {
       "model_id": "b15e9447e9c042fc8cb548b399292854",
       "version_major": 2,
       "version_minor": 0
      },
      "text/plain": [
       "GraphWidget(layout=Layout(height='500px', width='100%'))"
      ]
     },
     "metadata": {},
     "output_type": "display_data"
    }
   ],
   "source": [
    "# How are Brie cheeses connected to Munster cheeses? (Tree)\n",
    "g.show_cypher(\n",
    "    \"\"\"\n",
    "    MATCH (c1:Cheese)-[r:PAIRS_WITH *1..4 (_, n | WHERE label(n) = \"Cheese\") ]-(c2:Cheese)\n",
    "    WHERE c1.name CONTAINS \"Brie\" AND c2.name CONTAINS \"Munster\"\n",
    "    RETURN DISTINCT * LIMIT 50;\n",
    "    \"\"\",\n",
    "    layout=\"Tree\"\n",
    ")"
   ]
  },
  {
   "cell_type": "code",
   "execution_count": 10,
   "metadata": {},
   "outputs": [
    {
     "data": {
      "application/vnd.jupyter.widget-view+json": {
       "model_id": "251138cdc3cf42029ba9b2cd0d23423a",
       "version_major": 2,
       "version_minor": 0
      },
      "text/plain": [
       "GraphWidget(layout=Layout(height='790px', width='100%'))"
      ]
     },
     "metadata": {},
     "output_type": "display_data"
    }
   ],
   "source": [
    "# Starting from Gruyere, what wines can we pair with it? (Radial)\n",
    "g.show_cypher(\n",
    "    \"\"\"\n",
    "    MATCH (c1:Cheese)-[r *1..3]->(x)\n",
    "    WHERE c1.name = \"Gruyere\"\n",
    "    RETURN * LIMIT 50;\n",
    "    \"\"\",\n",
    "    layout=\"radial\"\n",
    ")"
   ]
  },
  {
   "cell_type": "code",
   "execution_count": null,
   "metadata": {},
   "outputs": [],
   "source": [
    "# What cheeses go with Californian Reds and Tuscan Reds? (Circular)\n",
    "g.show_cypher(\n",
    "    \"\"\"\n",
    "    MATCH (w1:RedWine)<-[r1]-(c:Cheese)-[r2]->(w2:RedWine)\n",
    "    WHERE w1.name CONTAINS \"California\" AND w2.name CONTAINS \"Tuscan\"\n",
    "    RETURN * LIMIT 50;\n",
    "    \"\"\",\n",
    "    layout=\"circular\"\n",
    ")"
   ]
  }
 ],
 "metadata": {
  "kernelspec": {
   "display_name": "Python 3 (ipykernel)",
   "language": "python",
   "name": "python3"
  },
  "language_info": {
   "codemirror_mode": {
    "name": "ipython",
    "version": 3
   },
   "file_extension": ".py",
   "mimetype": "text/x-python",
   "name": "python",
   "nbconvert_exporter": "python",
   "pygments_lexer": "ipython3",
   "version": "3.13.2"
  }
 },
 "nbformat": 4,
 "nbformat_minor": 4
}
